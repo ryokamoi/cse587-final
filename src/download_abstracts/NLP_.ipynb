{
  "nbformat": 4,
  "nbformat_minor": 0,
  "metadata": {
    "colab": {
      "provenance": []
    },
    "kernelspec": {
      "name": "python3",
      "display_name": "Python 3"
    },
    "language_info": {
      "name": "python"
    }
  },
  "cells": [
    {
      "cell_type": "code",
      "source": [
        "\n",
        "import zipfile\n",
        "import xml.etree.ElementTree as ET\n",
        "import json\n",
        "\n",
        "zip_path = \"/content/xml.zip\"\n",
        "\n",
        "target_confs = {\"acl\", \"emnlp\", \"naacl\"}\n",
        "years_2020_2023 = {\"2020\", \"2021\", \"2022\", \"2023\"}\n",
        "year_2024 = {\"2024\"}\n",
        "\n",
        "abstracts_2020_2023 = []\n",
        "abstracts_2024 = []\n",
        "\n",
        "with zipfile.ZipFile(zip_path, 'r') as zip_ref:\n",
        "    for filename in zip_ref.namelist():\n",
        "        if not filename.startswith(\"xml/\"):\n",
        "            continue\n",
        "\n",
        "        # 2020–2023 files\n",
        "        for year in years_2020_2023:\n",
        "            for conf in target_confs:\n",
        "                if filename == f\"xml/{year}.{conf}.xml\":\n",
        "                    try:\n",
        "                        with zip_ref.open(filename) as file:\n",
        "                            tree = ET.parse(file)\n",
        "                            root = tree.getroot()\n",
        "                            for paper in root.findall(\".//paper\"):\n",
        "                                abstract = paper.findtext(\"abstract\")\n",
        "                                if abstract:\n",
        "                                    abstracts_2020_2023.append({\n",
        "                                        \"year\": year,\n",
        "                                        \"venue\": conf.upper(),\n",
        "                                        \"abstract\": abstract.strip()\n",
        "                                    })\n",
        "                    except Exception as e:\n",
        "                        print(f\"Error in {filename}: {e}\")\n",
        "\n",
        "        # 2024 files\n",
        "        for year in year_2024:\n",
        "            for conf in target_confs:\n",
        "                if filename == f\"xml/{year}.{conf}.xml\":\n",
        "                    try:\n",
        "                        with zip_ref.open(filename) as file:\n",
        "                            tree = ET.parse(file)\n",
        "                            root = tree.getroot()\n",
        "                            for paper in root.findall(\".//paper\"):\n",
        "                                abstract = paper.findtext(\"abstract\")\n",
        "                                if abstract:\n",
        "                                    abstracts_2024.append({\n",
        "                                        \"year\": year,\n",
        "                                        \"venue\": conf.upper(),\n",
        "                                        \"abstract\": abstract.strip()\n",
        "                                    })\n",
        "                    except Exception as e:\n",
        "                        print(f\"Error in {filename}: {e}\")\n",
        "\n",
        "with open(\"acl-emnlp-naacl-2020-2023_abstracts.json\", \"w\", encoding=\"utf-8\") as f:\n",
        "    json.dump(abstracts_2020_2023, f, indent=2, ensure_ascii=False)\n",
        "\n",
        "with open(\"acl-emnlp-naacl-2024_abstracts.json\", \"w\", encoding=\"utf-8\") as f:\n",
        "    json.dump(abstracts_2024, f, indent=2, ensure_ascii=False)\n",
        "\n",
        "print(f\"Extracted {len(abstracts_2020_2023)} abstracts from 2020–2023.\")\n",
        "print(f\"Extracted {len(abstracts_2024)} abstracts from 2024.\")"
      ],
      "metadata": {
        "colab": {
          "base_uri": "https://localhost:8080/"
        },
        "id": "Js2EO2mHUIhR",
        "outputId": "22cff3e1-a535-4b6c-d1d9-42818129f0f5"
      },
      "execution_count": 3,
      "outputs": [
        {
          "output_type": "stream",
          "name": "stdout",
          "text": [
            "Extracted 8584 abstracts from 2020–2023.\n",
            "Extracted 3092 abstracts from 2024.\n"
          ]
        }
      ]
    },
    {
      "cell_type": "code",
      "source": [
        "import zipfile\n",
        "import xml.etree.ElementTree as ET\n",
        "import json\n",
        "\n",
        "zip_path = \"/content/xml.zip\"\n",
        "\n",
        "target_confs = {\"aacl\", \"arabicnlp\", \"cl\", \"conll\", \"eacl\",\n",
        "    \"findings\", \"iwslt\", \"semeval\", \"sem\", \"tacl\", \"wmt\", \"ws\"}\n",
        "years_2020_2023 = {\"2020\", \"2021\", \"2022\", \"2023\"}\n",
        "year_2024 = {\"2024\"}\n",
        "\n",
        "abstracts_2020_2023 = []\n",
        "abstracts_2024 = []\n",
        "\n",
        "with zipfile.ZipFile(zip_path, 'r') as zip_ref:\n",
        "    for filename in zip_ref.namelist():\n",
        "        if not filename.startswith(\"xml/\"):\n",
        "            continue\n",
        "\n",
        "        # 2020–2023 files\n",
        "        for year in years_2020_2023:\n",
        "            for conf in target_confs:\n",
        "                if filename == f\"xml/{year}.{conf}.xml\":\n",
        "                    try:\n",
        "                        with zip_ref.open(filename) as file:\n",
        "                            tree = ET.parse(file)\n",
        "                            root = tree.getroot()\n",
        "                            for paper in root.findall(\".//paper\"):\n",
        "                                abstract = paper.findtext(\"abstract\")\n",
        "                                if abstract:\n",
        "                                    abstracts_2020_2023.append({\n",
        "                                        \"year\": year,\n",
        "                                        \"venue\": conf.upper(),\n",
        "                                        \"abstract\": abstract.strip()\n",
        "                                    })\n",
        "                    except Exception as e:\n",
        "                        print(f\"Error in {filename}: {e}\")\n",
        "\n",
        "        # 2024 files\n",
        "        for year in year_2024:\n",
        "            for conf in target_confs:\n",
        "                if filename == f\"xml/{year}.{conf}.xml\":\n",
        "                    try:\n",
        "                        with zip_ref.open(filename) as file:\n",
        "                            tree = ET.parse(file)\n",
        "                            root = tree.getroot()\n",
        "                            for paper in root.findall(\".//paper\"):\n",
        "                                abstract = paper.findtext(\"abstract\")\n",
        "                                if abstract:\n",
        "                                    abstracts_2024.append({\n",
        "                                        \"year\": year,\n",
        "                                        \"venue\": conf.upper(),\n",
        "                                        \"abstract\": abstract.strip()\n",
        "                                    })\n",
        "                    except Exception as e:\n",
        "                        print(f\"Error in {filename}: {e}\")\n",
        "\n",
        "with open(\"2020-2023_abstracts.json\", \"w\", encoding=\"utf-8\") as f:\n",
        "    json.dump(abstracts_2020_2023, f, indent=2, ensure_ascii=False)\n",
        "\n",
        "with open(\"2024_abstracts.json\", \"w\", encoding=\"utf-8\") as f:\n",
        "    json.dump(abstracts_2024, f, indent=2, ensure_ascii=False)\n",
        "\n",
        "print(f\"Extracted {len(abstracts_2020_2023)} abstracts from 2020–2023.\")\n",
        "print(f\"Extracted {len(abstracts_2024)} abstracts from 2024.\")\n"
      ],
      "metadata": {
        "colab": {
          "base_uri": "https://localhost:8080/"
        },
        "id": "xXB-CSY7ve46",
        "outputId": "462e81d1-e9a1-45bf-d999-ee5883ed95e4"
      },
      "execution_count": 2,
      "outputs": [
        {
          "output_type": "stream",
          "name": "stdout",
          "text": [
            "Extracted 7566 abstracts from 2020–2023.\n",
            "Extracted 3408 abstracts from 2024.\n"
          ]
        }
      ]
    },
    {
      "cell_type": "code",
      "source": [],
      "metadata": {
        "id": "gZedjX-OvjM_"
      },
      "execution_count": null,
      "outputs": []
    }
  ]
}